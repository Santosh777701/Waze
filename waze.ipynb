{
 "cells": [
  {
   "cell_type": "code",
   "execution_count": 1,
   "id": "7cb6d2f4-6924-47a1-8e99-5390839a0709",
   "metadata": {},
   "outputs": [],
   "source": [
    "# Import necessary libraries\n",
    "import pandas as pd\n",
    "from scipy import stats\n",
    "import numpy as np\n"
   ]
  },
  {
   "cell_type": "code",
   "execution_count": 4,
   "id": "9b83d732-0bbd-4ec4-a596-762ebaa7fc65",
   "metadata": {},
   "outputs": [],
   "source": [
    "# Load the dataset into a DataFrame\n",
    "df = pd.read_csv('C:/Users/test/Desktop/python/waze_dataset.csv')\n"
   ]
  },
  {
   "cell_type": "code",
   "execution_count": 5,
   "id": "ffc3dc59-c736-434a-8f18-41bab64c842b",
   "metadata": {},
   "outputs": [],
   "source": [
    "# Create a dictionary to map iPhone and Android labels to numbers\n",
    "map_dictionary = {'iPhone': 1, 'Android': 2}\n",
    "\n",
    "# Create a new column `device_type` using the map() method\n",
    "df['device_type'] = df['device'].map(map_dictionary)\n"
   ]
  },
  {
   "cell_type": "code",
   "execution_count": 6,
   "id": "632bd2f3-941e-4183-a025-3b019cbc7c43",
   "metadata": {},
   "outputs": [
    {
     "ename": "KeyError",
     "evalue": "'Column not found: rides'",
     "output_type": "error",
     "traceback": [
      "\u001b[1;31m---------------------------------------------------------------------------\u001b[0m",
      "\u001b[1;31mKeyError\u001b[0m                                  Traceback (most recent call last)",
      "Cell \u001b[1;32mIn[6], line 2\u001b[0m\n\u001b[0;32m      1\u001b[0m \u001b[38;5;66;03m# Calculate the mean number of rides for each device type\u001b[39;00m\n\u001b[1;32m----> 2\u001b[0m mean_rides_by_device \u001b[38;5;241m=\u001b[39m df\u001b[38;5;241m.\u001b[39mgroupby(\u001b[38;5;124m'\u001b[39m\u001b[38;5;124mdevice\u001b[39m\u001b[38;5;124m'\u001b[39m)[\u001b[38;5;124m'\u001b[39m\u001b[38;5;124mrides\u001b[39m\u001b[38;5;124m'\u001b[39m]\u001b[38;5;241m.\u001b[39mmean()\n\u001b[0;32m      3\u001b[0m \u001b[38;5;28mprint\u001b[39m(mean_rides_by_device)\n",
      "File \u001b[1;32m~\\anaconda3\\Lib\\site-packages\\pandas\\core\\groupby\\generic.py:1951\u001b[0m, in \u001b[0;36mDataFrameGroupBy.__getitem__\u001b[1;34m(self, key)\u001b[0m\n\u001b[0;32m   1944\u001b[0m \u001b[38;5;28;01mif\u001b[39;00m \u001b[38;5;28misinstance\u001b[39m(key, \u001b[38;5;28mtuple\u001b[39m) \u001b[38;5;129;01mand\u001b[39;00m \u001b[38;5;28mlen\u001b[39m(key) \u001b[38;5;241m>\u001b[39m \u001b[38;5;241m1\u001b[39m:\n\u001b[0;32m   1945\u001b[0m     \u001b[38;5;66;03m# if len == 1, then it becomes a SeriesGroupBy and this is actually\u001b[39;00m\n\u001b[0;32m   1946\u001b[0m     \u001b[38;5;66;03m# valid syntax, so don't raise\u001b[39;00m\n\u001b[0;32m   1947\u001b[0m     \u001b[38;5;28;01mraise\u001b[39;00m \u001b[38;5;167;01mValueError\u001b[39;00m(\n\u001b[0;32m   1948\u001b[0m         \u001b[38;5;124m\"\u001b[39m\u001b[38;5;124mCannot subset columns with a tuple with more than one element. \u001b[39m\u001b[38;5;124m\"\u001b[39m\n\u001b[0;32m   1949\u001b[0m         \u001b[38;5;124m\"\u001b[39m\u001b[38;5;124mUse a list instead.\u001b[39m\u001b[38;5;124m\"\u001b[39m\n\u001b[0;32m   1950\u001b[0m     )\n\u001b[1;32m-> 1951\u001b[0m \u001b[38;5;28;01mreturn\u001b[39;00m \u001b[38;5;28msuper\u001b[39m()\u001b[38;5;241m.\u001b[39m\u001b[38;5;21m__getitem__\u001b[39m(key)\n",
      "File \u001b[1;32m~\\anaconda3\\Lib\\site-packages\\pandas\\core\\base.py:244\u001b[0m, in \u001b[0;36mSelectionMixin.__getitem__\u001b[1;34m(self, key)\u001b[0m\n\u001b[0;32m    242\u001b[0m \u001b[38;5;28;01melse\u001b[39;00m:\n\u001b[0;32m    243\u001b[0m     \u001b[38;5;28;01mif\u001b[39;00m key \u001b[38;5;129;01mnot\u001b[39;00m \u001b[38;5;129;01min\u001b[39;00m \u001b[38;5;28mself\u001b[39m\u001b[38;5;241m.\u001b[39mobj:\n\u001b[1;32m--> 244\u001b[0m         \u001b[38;5;28;01mraise\u001b[39;00m \u001b[38;5;167;01mKeyError\u001b[39;00m(\u001b[38;5;124mf\u001b[39m\u001b[38;5;124m\"\u001b[39m\u001b[38;5;124mColumn not found: \u001b[39m\u001b[38;5;132;01m{\u001b[39;00mkey\u001b[38;5;132;01m}\u001b[39;00m\u001b[38;5;124m\"\u001b[39m)\n\u001b[0;32m    245\u001b[0m     ndim \u001b[38;5;241m=\u001b[39m \u001b[38;5;28mself\u001b[39m\u001b[38;5;241m.\u001b[39mobj[key]\u001b[38;5;241m.\u001b[39mndim\n\u001b[0;32m    246\u001b[0m     \u001b[38;5;28;01mreturn\u001b[39;00m \u001b[38;5;28mself\u001b[39m\u001b[38;5;241m.\u001b[39m_gotitem(key, ndim\u001b[38;5;241m=\u001b[39mndim)\n",
      "\u001b[1;31mKeyError\u001b[0m: 'Column not found: rides'"
     ]
    }
   ],
   "source": [
    "# Calculate the mean number of rides for each device type\n",
    "mean_rides_by_device = df.groupby('device')['drives'].mean()\n",
    "print(mean_rides_by_device)\n"
   ]
  },
  {
   "cell_type": "code",
   "execution_count": 7,
   "id": "a45be95d-9d71-4961-ac19-fbdf04c779a5",
   "metadata": {},
   "outputs": [
    {
     "name": "stdout",
     "output_type": "stream",
     "text": [
      "Index(['ID', 'label', 'sessions', 'drives', 'total_sessions',\n",
      "       'n_days_after_onboarding', 'total_navigations_fav1',\n",
      "       'total_navigations_fav2', 'driven_km_drives', 'duration_minutes_drives',\n",
      "       'activity_days', 'driving_days', 'device', 'device_type'],\n",
      "      dtype='object')\n"
     ]
    }
   ],
   "source": [
    "# Check the column names of the DataFrame\n",
    "print(df.columns)\n"
   ]
  },
  {
   "cell_type": "code",
   "execution_count": 8,
   "id": "919e0f3b-ee78-458b-b67b-c7511b96f0b2",
   "metadata": {},
   "outputs": [
    {
     "name": "stdout",
     "output_type": "stream",
     "text": [
      "device\n",
      "Android    66.231838\n",
      "iPhone     67.859078\n",
      "Name: drives, dtype: float64\n"
     ]
    }
   ],
   "source": [
    "# Group by device and calculate the mean number of drives\n",
    "mean_rides_by_device = df.groupby('device')['drives'].mean()\n",
    "print(mean_rides_by_device)\n"
   ]
  },
  {
   "cell_type": "code",
   "execution_count": 12,
   "id": "940b2345-7336-4058-a96d-398fe7568d1f",
   "metadata": {},
   "outputs": [],
   "source": [
    "# Isolate rides column for iPhone users\n",
    "iphone_rides = df[df['device'] == 'iPhone']['drives']\n",
    "\n",
    "# Isolate rides column for Android users\n",
    "android_rides = df[df['device'] == 'Android']['drives']\n"
   ]
  },
  {
   "cell_type": "code",
   "execution_count": 13,
   "id": "75bff1df-1f92-4f75-a40c-5e7995b0d96e",
   "metadata": {},
   "outputs": [
    {
     "ename": "NameError",
     "evalue": "name 'iphone_drives' is not defined",
     "output_type": "error",
     "traceback": [
      "\u001b[1;31m---------------------------------------------------------------------------\u001b[0m",
      "\u001b[1;31mNameError\u001b[0m                                 Traceback (most recent call last)",
      "Cell \u001b[1;32mIn[13], line 2\u001b[0m\n\u001b[0;32m      1\u001b[0m \u001b[38;5;66;03m# Perform two-sample t-test\u001b[39;00m\n\u001b[1;32m----> 2\u001b[0m t_stat, p_value \u001b[38;5;241m=\u001b[39m stats\u001b[38;5;241m.\u001b[39mttest_ind(iphone_drives, android_drives, equal_var\u001b[38;5;241m=\u001b[39m\u001b[38;5;28;01mFalse\u001b[39;00m)\n\u001b[0;32m      4\u001b[0m \u001b[38;5;66;03m# Output the results\u001b[39;00m\n\u001b[0;32m      5\u001b[0m \u001b[38;5;28mprint\u001b[39m(\u001b[38;5;124mf\u001b[39m\u001b[38;5;124m'\u001b[39m\u001b[38;5;124mT-statistic: \u001b[39m\u001b[38;5;132;01m{\u001b[39;00mt_stat\u001b[38;5;132;01m}\u001b[39;00m\u001b[38;5;124m, P-value: \u001b[39m\u001b[38;5;132;01m{\u001b[39;00mp_value\u001b[38;5;132;01m}\u001b[39;00m\u001b[38;5;124m'\u001b[39m)\n",
      "\u001b[1;31mNameError\u001b[0m: name 'iphone_drives' is not defined"
     ]
    }
   ],
   "source": [
    "# Perform two-sample t-test\n",
    "t_stat, p_value = stats.ttest_ind(iphone_drives, android_drives, equal_var=False)\n",
    "\n",
    "# Output the results\n",
    "print(f'T-statistic: {t_stat}, P-value: {p_value}')\n"
   ]
  },
  {
   "cell_type": "code",
   "execution_count": 15,
   "id": "41d7c94b-e827-44e2-a88e-ed4f874cf155",
   "metadata": {},
   "outputs": [],
   "source": [
    "# Isolate the `drives` column for iPhone users\n",
    "iphone_drives = df[df['device'] == 'iPhone']['drives']\n",
    "\n",
    "# Isolate the `drives` column for Android users\n",
    "android_drives = df[df['device'] == 'Android']['drives']\n"
   ]
  },
  {
   "cell_type": "code",
   "execution_count": 16,
   "id": "cd77385c-0518-46c2-8ac4-aad2f4421c40",
   "metadata": {},
   "outputs": [
    {
     "name": "stdout",
     "output_type": "stream",
     "text": [
      "T-statistic: 1.463523206885235, P-value: 0.143351972680206\n"
     ]
    }
   ],
   "source": [
    "# Perform two-sample t-test with unequal variances\n",
    "from scipy import stats\n",
    "\n",
    "t_stat, p_value = stats.ttest_ind(iphone_drives, android_drives, equal_var=False)\n",
    "\n",
    "# Output the results\n",
    "print(f'T-statistic: {t_stat}, P-value: {p_value}')\n"
   ]
  },
  {
   "cell_type": "code",
   "execution_count": null,
   "id": "81ab56dd-1b4d-48d8-8a1c-231083da95f2",
   "metadata": {},
   "outputs": [],
   "source": [
    "#The p-value is 0.1434, greater than 0.05, so we **fail to reject the null hypothesis**. This indicates no significant difference in the mean number of rides between iPhone and Android users.\n"
   ]
  },
  {
   "cell_type": "code",
   "execution_count": null,
   "id": "7f36ee9e-2610-4734-ac7e-254b0669a927",
   "metadata": {},
   "outputs": [],
   "source": [
    "#The T-statistic of 1.46 shows a difference between the means, but the p-value (0.1434) suggests it could be due to chance. Since it's above 0.05, there's no evidence of a significant difference in rides between iPhone and Android users. No action is needed regarding device type and user engagement."
   ]
  }
 ],
 "metadata": {
  "kernelspec": {
   "display_name": "Python 3 (ipykernel)",
   "language": "python",
   "name": "python3"
  },
  "language_info": {
   "codemirror_mode": {
    "name": "ipython",
    "version": 3
   },
   "file_extension": ".py",
   "mimetype": "text/x-python",
   "name": "python",
   "nbconvert_exporter": "python",
   "pygments_lexer": "ipython3",
   "version": "3.12.4"
  }
 },
 "nbformat": 4,
 "nbformat_minor": 5
}
